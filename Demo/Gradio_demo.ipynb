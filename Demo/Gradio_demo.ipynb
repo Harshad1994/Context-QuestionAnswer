{
 "cells": [
  {
   "cell_type": "code",
   "execution_count": 5,
   "metadata": {},
   "outputs": [],
   "source": [
    "import sys\n",
    "sys.path.append(\"..\")\n",
    "import gradio as gr\n",
    "from inference import question_answer_model,discriminator_model"
   ]
  },
  {
   "cell_type": "code",
   "execution_count": 6,
   "metadata": {},
   "outputs": [
    {
     "name": "stdout",
     "output_type": "stream",
     "text": [
      "Running on local URL:  http://127.0.0.1:7860\n",
      "\n",
      "To create a public link, set `share=True` in `launch()`.\n"
     ]
    },
    {
     "data": {
      "text/html": [
       "<div><iframe src=\"http://127.0.0.1:7860/\" width=\"100%\" height=\"500\" allow=\"autoplay; camera; microphone; clipboard-read; clipboard-write;\" frameborder=\"0\" allowfullscreen></iframe></div>"
      ],
      "text/plain": [
       "<IPython.core.display.HTML object>"
      ]
     },
     "metadata": {},
     "output_type": "display_data"
    },
    {
     "data": {
      "text/plain": []
     },
     "execution_count": 6,
     "metadata": {},
     "output_type": "execute_result"
    }
   ],
   "source": [
    "title=\"Answer based on the context provided\"\n",
    "description=\"the model is trained to answer questions based on context provided. \\\n",
    "    If the question is not related to provided context it will return 'No appropriate context' \"\n",
    "context_box=gr.Textbox(label=\"Enter the Context string here\",max_lines=4)\n",
    "question=gr.Textbox(label=\"Ask a Question\")\n",
    "answer = gr.Textbox(label='Answer')\n",
    "\n",
    "interface=gr.Interface(fn=question_answer_model,inputs=[context_box,question],\n",
    "                        outputs=answer,\n",
    "                        title=title,\n",
    "                        description=description\n",
    "                        )\n",
    "interface.launch()"
   ]
  }
 ],
 "metadata": {
  "kernelspec": {
   "display_name": "venv_openai",
   "language": "python",
   "name": "python3"
  },
  "language_info": {
   "codemirror_mode": {
    "name": "ipython",
    "version": 3
   },
   "file_extension": ".py",
   "mimetype": "text/x-python",
   "name": "python",
   "nbconvert_exporter": "python",
   "pygments_lexer": "ipython3",
   "version": "3.8.10"
  },
  "orig_nbformat": 4,
  "vscode": {
   "interpreter": {
    "hash": "d6b8e43ebc2a0c7ddba41e90ef0ee8b21ec00264271a4513648528c2def0d6ed"
   }
  }
 },
 "nbformat": 4,
 "nbformat_minor": 2
}
